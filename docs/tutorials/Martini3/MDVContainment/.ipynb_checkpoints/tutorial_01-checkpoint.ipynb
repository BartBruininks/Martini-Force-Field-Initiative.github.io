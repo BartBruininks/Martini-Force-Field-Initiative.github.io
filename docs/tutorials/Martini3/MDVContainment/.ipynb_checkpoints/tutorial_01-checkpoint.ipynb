{
 "cells": [
  {
   "attachments": {},
   "cell_type": "markdown",
   "id": "9508bd17-0df1-41ae-a035-5deb6984d0ca",
   "metadata": {},
   "source": [
    "# MDVContainment -- Tutorial 1 (MartiniWorkshop 2025)\n",
    "This tutorial makes use of the [helper_tutorial_01.py]( https://cgmartini-library.s3.ca-central-1.amazonaws.com/0_Tutorials/m3_tutorials/MDVContainment/helper_tutorial_01.py) and the [bicelle.gro](https://cgmartini-library.s3.ca-central-1.amazonaws.com/0_Tutorials/m3_tutorials/MDVContainment/bicelle.gro) structure, which can be downloaded by clicking on their respective link. Make sure to put these files in the same folder as you use to run this tutorial.\n",
    "\n",
    "## What is Containment\n",
    "Containment can be simply thought of as something *surrounding* something else completely (Fig. 0). This is useful for analyzing volumetric data in a hierarchical manner, allowing for robust processing at high throughput. This means containment it is a property which combines: \n",
    "\n",
    "1) **Components** How the total space is partitioned (Strongly Connected Components analysis, SCC).\n",
    "2) **Contact Graph** Components that share a boundary are connected with an edge.\n",
    "3) **Containment Graph** A component can be contained by another component, causing its edge designating the contact to point from the container to the content. I.e. the contained component lies downstream of the container component in the acyclic directed graph (DAG).  Only the directed edges are present in the containment graph.\n",
    "\n",
    "Identifying inside and outside is non-trivial in periodic spaces and MDVContainment uses the concept of percolation to solve this problem. A component is considered contained if its inverse has a higher percolation number (rank) than the component itself, where the inverse of a component is all of space which is not the component in question. Meaning it also works for objects spanning the PBC such as a hollow periodic cylinder.\n",
    "\n",
    "The binary nature of the component labeling (all labels are strongly connected) in combination with the containment status of individual components is enough to collapse the contact graph into the containment graph (adding direction and defining what is outside). The [manuscript](https://doi.org/10.1101/2025.08.06.668936) of this work is available as a preprint.\n",
    "\n",
    "<center><img src=\"containment_examples.png\" width=\"600\"/></center>\n",
    "\n",
    "**Fig. 0** Some examples of containment in periodic spaces. **(A)** A vesicle formed from a bicelle. **(B)** A periodic cylinder formed by dye molecules. **(C)** A lipoplex hovering above a membrane. **D** A horrific triple stacked bilayer system in which one of them has a pore. Try to wrap your head around that one with your intuition... In all the figures the red and blue densities represent lipid and solvent phases respectively. A density is rendered opaque if it does not have a child (it is a leaf in the containment graph), otherwise it is transparent (is a container). The arrows point from container to content. One can put every content into its container recursively to obtain the full box (albeit fragmented as is the case in system C).  "
   ]
  },
  {
   "cell_type": "markdown",
   "id": "51e86c52-4a65-431e-b937-a8eb37873994",
   "metadata": {},
   "source": [
    "### Theory\n",
    "We will start by clarifying the objective and what we mean by containment. To do so\n",
    "we will explicitly state the goal and eight axioms.\n",
    "The goal is the classifier we wish to obtain. The axioms are an extension of\n",
    "well-known mathematical concepts. Concepts such as **connected components** and\n",
    "**percolation** are taken for granted. Each axiom comes with a figure, to enforce what\n",
    "is intended."
   ]
  },
  {
   "attachments": {},
   "cell_type": "markdown",
   "id": "49d66fee-114b-48e9-ba0b-4893ce1acd5f",
   "metadata": {},
   "source": [
    "### Goal & Axioms\n",
    "### Goal\n",
    "To obtain a definition of containment resulting in a containment graph spanning the\n",
    "complete space. The containment graph is a directed acyclic (multi) graph. The components \n",
    "are the nodes in the graph and the directions of the edges indicate containment.\n",
    "The graph should satisfy the following conditions: First, a node cannot have more\n",
    "than one inward pointing edge. A, node can have more than one outward pointing\n",
    "edge. Second, the alteration of the containment hierarchy downstream should never\n",
    "affect the containment hierarchy upstream. All these conditions are satisfied by the\n",
    "axioms below and result in unambiguous specification of the containment hierarchy.\n",
    "An example of such a containment graph is given in Fig 1.\n",
    "\n",
    "<center><img src=\"example_containment_graph.png\" width=\"600\"/></center>\n",
    "\n",
    "**Fig. 1** A 2D boolean density (left) and its corresponding containment graph (right) of four components in 2D periodic space (R2/Z2). A component contains\n",
    "all downstream components in the containment graph, plus itself. A single component (A) contains\n",
    "all the other components ({A, B, C, D}). There is one nested container (B) which also contains a\n",
    "component (C). The graph was drawn using https://graphonline.ru/en/.\n",
    "\n",
    "#### Axiom 1. space\n",
    "Space is regular and not curved (e.g. R, Z, R/Z, etc.; Fig. 2).\n",
    "\n",
    "<center><img src=\"A1.png\" width=\"300\"/></center>\n",
    "\n",
    "**Fig. 2** Axiom 1. space. The space outlined with a square as a boundary. It needs not be a square nor\n",
    "does it has to have a boundary, this is just for illustrative purposes.\n",
    "\n",
    "#### Axiom 2. components\n",
    "The binary partitioning of space results in connected components which can be True\n",
    "or False. Whenever we use the word component we mean strongly connected component unless\n",
    "stated otherwise (Fig. 3).\n",
    "\n",
    "<center><img src=\"A2.png\" width=\"450\"/></center>\n",
    "\n",
    "**Fig. 3** Axiom 2. components. The densities\n",
    "{A, D} are represented in peach. The void components {A, C} are white.\n",
    "\n",
    "#### Axiom 3. complements\n",
    "The complement of a component is all of space which is not the component, therefore\n",
    "a complement does not need to be connected. The complement of a component A is\n",
    "annotated as !A (Fig. 4).\n",
    "\n",
    "<center><img src=\"A3.png\" width=\"850\"/></center>\n",
    "\n",
    "**Fig. 4** Axiom 3. complements. The complement !A is drawn in peach and its corresponding component \n",
    "A is drawn in white.\n",
    "\n",
    "#### Axiom 4. rank\n",
    "The rank (ρ) of a component, or its complement, is defined by the amount of orthogonal\n",
    "dimensions in which it percolates space [7]. The rank of a component or complement\n",
    "(A of rank 2) is indicated with a preceding subscript number (2A). Since a complement\n",
    "does not need to be connected, the rank of a compliment is the highest rank among\n",
    "the ranks of its components (Fig. 5).\n",
    "\n",
    "<center><img src=\"A4.png\" width=\"600\"/></center>\n",
    "\n",
    "**Fig. 5** Axiom 4. rank. The rank of the void A with a dot (2), periodic line (1) and periodic net (0)\n",
    "are shown from left to right. The corresponding density B is of rank 0, 1 and 2 reciprocally.\n",
    "\n",
    "#### Axiom 5. component containment\n",
    "A component is contained if its complement is of higher rank. The containment status\n",
    "of a component (A) is annotated with a subscript c (Ac; Fig. 6).\n",
    "\n",
    "<center><img src=\"A5.png\" width=\"550\"/></center>\n",
    "\n",
    "**Fig. 6** Axiom 5. component containment. The components {B, C, D} are contained, A is not. The\n",
    "densities {A, D} are represented in peach. The void components {A, C} are white).\n",
    "\n",
    "#### Axiom 6. component contacts\n",
    "Two components are in contact if they share a boundary. A contact between a component (A) \n",
    "and another component (B) is annotated with a tilde (A ∼ B). The collection\n",
    "of all contacts is called a contact graph (Fig. 7).\n",
    "\n",
    "<center><img src=\"A6.png\" width=\"400\"/></center>\n",
    "\n",
    "**Fig. 7** Axiom 6. component contacts. Component A is in contact with components {B, D} and B is\n",
    "in contact with C. The densities {A, D} are represented in peach. The void components {A, C} are\n",
    "white. The boundaries are represented with black curves.\n",
    "\n",
    "#### Axiom 7. neighbor containment\n",
    "A component is contained by a neighboring component in the contact graph if it\n",
    "is contained and the neighbor is not. Containment of a component (A) by another\n",
    "component (B) is annotated with an arrow (B → A). The collection of all containment\n",
    "hierarchy in a space is called its containment graph (Fig. 8).\n",
    "\n",
    "<center><img src=\"A7.png\" width=\"600\"/></center>\n",
    "\n",
    "**Fig. 8** Axiom 7. neighbor containment. Component A contains B and D. The densities {A, D} are\n",
    "represented in peach. The void components {A, C} are white.\n",
    "\n",
    "#### Axiom 8. recursive neighbor containment\n",
    "A component which is contained by a neighboring component contains all other\n",
    "components it is in contact with (Fig. 9).\n",
    "\n",
    "<center><img src=\"A8.png\" width=\"750\"/></center>\n",
    "\n",
    "**Fig. 9** Axiom 8. recursive neighbor containment. Component C is contained by B due to recursion.\n",
    "The densities {A, D} are represented in peach. The void components {A, C} are white."
   ]
  },
  {
   "cell_type": "markdown",
   "id": "144eda59-2253-4199-87a0-0c753d7d9f02",
   "metadata": {},
   "source": [
    "For questions or more information feel free to send an email to the author of this math and software (BMH Bruininks): `bartbruininks@gmail.com`"
   ]
  },
  {
   "cell_type": "markdown",
   "id": "eefa27d8-197f-4124-96a3-5d7bd2c1537b",
   "metadata": {},
   "source": [
    "## Content of this Tutorial\n",
    "To determine the containment hierarchy on the bicelle test system (Fig. 10) and then perform some basic analysis on it. This system contains a vesicle/bicelle made of oleic acids. The bicelle is solvated in water and inside the bicelle is a small which is also filled with water. Here you will get used to using mdv.Containment and run it directly on MDAnalysis atomgroups. We will perform a volume, genus and composition analysis of the components/containment.\n",
    "\n",
    "1. Load a structure file and prepare for containment analysis\n",
    "2. Running the containment analysis\n",
    "3. Learn to work with the containment graph\n",
    "4. Volumetric Analysis\n",
    "5. Surface Analysis\n",
    "6. Compositions Analysis\n",
    "7. Assignments\n",
    "8. Flex plotting\n",
    "9. Conclusion\n",
    "10. Answers to the question"
   ]
  },
  {
   "cell_type": "markdown",
   "id": "fc97ee20-c8ce-4d42-8489-2c10ef9d0b44",
   "metadata": {},
   "source": [
    "# Bicelle Vesicle Containment"
   ]
  },
  {
   "cell_type": "markdown",
   "id": "6b25c268-3347-4059-8a49-239634e2a1f5",
   "metadata": {},
   "source": [
    "## Imports"
   ]
  },
  {
   "cell_type": "code",
   "execution_count": 55,
   "id": "27f2fa23-1e1d-4180-8122-fda5221746bd",
   "metadata": {},
   "outputs": [],
   "source": [
    "# Containment\n",
    "import mdvcontainment as mdv\n",
    "import mdvcontainment.composition_logic as cl\n",
    "from mdvcontainment.containment_main import VoxelContainment\n",
    "\n",
    "# Load the helper functions for the tutorial\n",
    "from helper_tutorial_01 import *\n",
    "\n",
    "# MD programs\n",
    "import MDAnalysis as mda\n",
    "import freud\n",
    "from mdvwhole import whole\n",
    "\n",
    "# General python\n",
    "import numpy as np\n",
    "from collections import defaultdict\n",
    "import networkx as nx\n",
    "\n",
    "# Helper python\n",
    "from skimage import measure\n",
    "import open3d as o3d\n",
    "\n",
    "# Turning off warnings for MDA as it tends to complain a lot with CG data\n",
    "import warnings\n",
    "# Suppress all warnings from a specific package\n",
    "warnings.filterwarnings(\"ignore\", module=\"MDAnalysis\")"
   ]
  },
  {
   "cell_type": "markdown",
   "id": "07d49ed1-68aa-4a7e-86ed-84e77e84e39e",
   "metadata": {},
   "source": [
    "## Loading the MD Data\n",
    "MDVContainment is made so it works nicely with MDAnalysis for its structure file support (PDB, GRO, XTC, etc.). Start with creating an MDAnalysis universe from your structure file. We will make a copy of the wrapped and unwrapped structure (using `mdvwhole`) so we can use those for comparison if we want."
   ]
  },
  {
   "cell_type": "code",
   "execution_count": 56,
   "id": "f6ea1b43-6bee-4d4d-8ed3-41167ab1755c",
   "metadata": {},
   "outputs": [],
   "source": [
    "# The path to the desired structure file\n",
    "current_structure_path = 'bicelle.gro' # Change me to point to a structure!"
   ]
  },
  {
   "cell_type": "code",
   "execution_count": 57,
   "id": "fb232b8b-7400-4f08-ab4a-f589bbbd6af0",
   "metadata": {},
   "outputs": [],
   "source": [
    "# This GRO file is already made whole but lets wrap it up\n",
    "u = mda.Universe(current_structure_path)\n",
    "u.atoms.wrap() # Wrap everything in the PBC box so no points lie outside the dimensions\n",
    "u.atoms.write('wrapped.pdb') # Write the atomgroup after its wrapped in the box\n",
    "wrapped_positions = np.copy(u.atoms.positions)"
   ]
  },
  {
   "cell_type": "code",
   "execution_count": 58,
   "id": "b100b3ae-b9e9-44d6-92ff-8d84f469ecc1",
   "metadata": {},
   "outputs": [],
   "source": [
    "# Let's make the structure whole so we can play a bit and see if it matters\n",
    "atomgroup_selection = u.select_atoms('not resname W WF ION') # The selection to make whole\n",
    "resolution = 0.5 # Sets the voxel size for the resolution\n",
    "closing = True # Uses binary dilaten and then erosion to close small gaps\n",
    "whole_universe = whole.Whole(atomgroup_selection, 0.5, closing,).voxels.atomgroup.universe"
   ]
  },
  {
   "cell_type": "code",
   "execution_count": 59,
   "id": "b5fc9da1-ec0a-4286-8566-828a8af4c3f6",
   "metadata": {},
   "outputs": [
    {
     "name": "stdout",
     "output_type": "stream",
     "text": [
      "Wrapped positions and unwrapped positions are idential (False is good): False\n"
     ]
    }
   ],
   "source": [
    "# Check if the wrapping and unwrapping worked out\n",
    "print(f'Wrapped positions and unwrapped positions are idential (False is good): \\\n",
    "{np.all(whole_universe.atoms.positions == wrapped_positions)}')"
   ]
  },
  {
   "cell_type": "code",
   "execution_count": 60,
   "id": "714e9471-ed56-4343-b01c-b7ceddafc0a6",
   "metadata": {},
   "outputs": [],
   "source": [
    "# Write the atomgroup after it has been made whole\n",
    "whole_universe.atoms.write('whole.pdb')"
   ]
  },
  {
   "cell_type": "markdown",
   "id": "2815e658-74a1-4f5f-99e9-ea8459c93666",
   "metadata": {},
   "source": [
    "<center><img src=\"bicelle.png\" width=\"600\" /></center>\n",
    "\n",
    "**Fig. 10** A VMD render of the system. The bicelle is made whole over PBC using MDVWhole. It might be useful to keep in mind that, broken or not, it does not matter for MDVContainment."
   ]
  },
  {
   "cell_type": "markdown",
   "id": "b90dd900-a9b8-4375-ae9c-f2ad1b4324ed",
   "metadata": {},
   "source": [
    "## General design of MDVContainment\n",
    "The output of the containment analysis is more or less an MDAnalysis wrapper around `mdvcontainment.containment_main.VoxelContainment`. It handles all bookkeeping for moving from an atomgroup to (segmented) voxels and back. When you run `mdvcontainment.Containment()`, it converts the input atomgroup into a boolean grid and performs the analysis on the grid. Then the analysis can be projected back into atomgroup(s).\n",
    "\n",
    "<div class=\"alert alert-block alert-info\">\n",
    "<b>Tip:</b> Do not forget python allows you to use help() and dir() on objects to explore them.\n",
    "</div>\n",
    "\n",
    "To work with the voxel containment data, we can use the `.voxel_containment` attribute of the containment output. This will be demonstrated below in some examples."
   ]
  },
  {
   "cell_type": "markdown",
   "id": "5095d1ef-07fd-4251-af2e-6b83c87e04bc",
   "metadata": {},
   "source": [
    "## Running the Containment Analysis\n",
    "Running a containment analysis requires very little from the user, it requires an atomgroup, a resolution for the voxel size (nm), and weather or not you want to close single voxel holes using binary closing. The resolution should never be smaller than the first neighbor distance of the condensed phase you are studying. For Martini CG systems this is about 0.5 nm, with closing to fill small holes. For atomistic data a smaller resolution could be used, although usually a resolution of 0.5 with or without closing works pretty good. In general a smaller value for the resolution results in an increase in computational load, both for memory and compute."
   ]
  },
  {
   "cell_type": "code",
   "execution_count": 61,
   "id": "cebd5fbf-470b-4a13-9a1d-24a6d9adb9fd",
   "metadata": {},
   "outputs": [],
   "source": [
    "# Selecting all tail beads (see what happens if you exclude the first tail bead as well!)\n",
    "#selection_atomgroup = u.select_atoms('name [CD][12345][AB]') "
   ]
  },
  {
   "cell_type": "code",
   "execution_count": 62,
   "id": "598624b2-1b5a-46a6-bfb2-6426bc4008aa",
   "metadata": {},
   "outputs": [
    {
     "name": "stdout",
     "output_type": "stream",
     "text": [
      "WARNING: beta/tempfactors already set in the universe, and will be overwritten with the component ids.\n",
      "Containment Graph with 3 components (component: nvoxels):\n",
      "└── [-2: 59600]\n",
      "    └── [1: 3868]\n",
      "        └── [-1: 532]\n",
      "\n"
     ]
    }
   ],
   "source": [
    "# A slightly more conservative selection for the lipid densities\n",
    "selection_atomgroup = u.select_atoms('name [CD][2345][AB]') \n",
    "resolution = 0.5 # The voxel size in nanometers\n",
    "closing = True # Uses binary dilation and erosion to close tiny holes\n",
    "containment = mdv.Containment(selection_atomgroup, resolution, closing)\n",
    "print(containment) # Shows the containment hierarchy"
   ]
  },
  {
   "cell_type": "markdown",
   "id": "baf4d6e9-c6fe-45e7-bc8e-609de46fcdff",
   "metadata": {},
   "source": [
    "::: {.callout-tip}\n",
    "## Question 1\n",
    "\n",
    "Which component(s) are the ones occupied with your selection?\n",
    ":::"
   ]
  },
  {
   "cell_type": "markdown",
   "id": "c9e456ae-31a1-4d40-8646-4139a3f3199c",
   "metadata": {},
   "source": [
    "### Contact graph\n",
    "The contact graph annotates every components contacts where a component is considered in contact if they share on of their 26 voxel neighbors (they share a vertex of their voxel simplices). The contact graph is always strongly connected."
   ]
  },
  {
   "cell_type": "code",
   "execution_count": 63,
   "id": "2b84b830-08a7-409f-a350-04932ede604c",
   "metadata": {},
   "outputs": [
    {
     "data": {
      "image/png": "[encoded data removed]",
      "text/plain": [
       "<Figure size 640x480 with 1 Axes>"
      ]
     },
     "metadata": {},
     "output_type": "display_data"
    }
   ],
   "source": [
    "# The contacts graph\n",
    "contact_graph = containment.voxel_containment.component_contact_graph\n",
    "nx.draw_networkx(contact_graph)\n",
    "plt.show()"
   ]
  },
  {
   "cell_type": "code",
   "execution_count": 64,
   "id": "29c4d035-9f9d-46c3-9e4e-337932526613",
   "metadata": {},
   "outputs": [
    {
     "name": "stdout",
     "output_type": "stream",
     "text": [
      "The amount of connected components in the contact graph: 1\n"
     ]
    }
   ],
   "source": [
    "# Check if the contact graph is indeed strongly connected \n",
    "print(f'The amount of connected components in the contact graph: {len(list(nx.connected_components(contact_graph)))}')"
   ]
  },
  {
   "cell_type": "markdown",
   "id": "c1079f56-d103-45ae-b443-194b603d3004",
   "metadata": {},
   "source": [
    "### Containment graph\n",
    "The containment graph annotates containment with a directed edge pointing from the container to the content. Their might be multiple outsides in a system (like in the case of a periodic bilayer), meaning the containment graph might be disconnected. This is due to the fact that the directed edges in the containment graph are a subset of the undirected edges in the contact graph."
   ]
  },
  {
   "cell_type": "code",
   "execution_count": 65,
   "id": "ab0018a4-6a57-4244-9761-2b008298a919",
   "metadata": {},
   "outputs": [
    {
     "data": {
      "image/png": "[encoded data removed]",
      "text/plain": [
       "<Figure size 640x480 with 1 Axes>"
      ]
     },
     "metadata": {},
     "output_type": "display_data"
    }
   ],
   "source": [
    "# Draw the containment graph\n",
    "containment_graph = containment.voxel_containment.containment_graph\n",
    "nx.draw_networkx(containment_graph)\n",
    "plt.show()"
   ]
  },
  {
   "cell_type": "markdown",
   "id": "0013ad71-c5e8-4910-aa7f-6c678a575bf2",
   "metadata": {},
   "source": [
    "::: {.callout-tip}\n",
    "## Question 2\n",
    "\n",
    "Which component is contained by component 1?\n",
    ":::"
   ]
  },
  {
   "cell_type": "code",
   "execution_count": 66,
   "id": "58923eb5-2a32-403d-a05e-e87203b728b8",
   "metadata": {},
   "outputs": [
    {
     "name": "stdout",
     "output_type": "stream",
     "text": [
      "The amount of connected components in the containment graph: 1\n"
     ]
    }
   ],
   "source": [
    "# Check if the containment graph is strongly connected\n",
    "print(f'The amount of connected components in the containment graph: {len(list(nx.connected_components(contact_graph)))}')"
   ]
  },
  {
   "cell_type": "markdown",
   "id": "2cab87df-179b-49a2-af3b-b2b9d6580df7",
   "metadata": {},
   "source": [
    "The containment graph is also strongly connected, meaning the whole box can be described as a single recursive containment branch (there is only one absolute outside)."
   ]
  },
  {
   "cell_type": "markdown",
   "id": "7ff26be5-c7a8-40f3-96b2-d4347e477fe9",
   "metadata": {},
   "source": [
    "### Rank\n",
    "The rank of a component is the amount of orthogonal dimensions in which is spans the PBC. In other words, how intrinsically periodic is a component."
   ]
  },
  {
   "cell_type": "code",
   "execution_count": 67,
   "id": "cfc7dc14-0e0d-49c7-82c2-6433a14c2fcf",
   "metadata": {},
   "outputs": [
    {
     "name": "stdout",
     "output_type": "stream",
     "text": [
      "The rank for component 1 is: 0\n",
      "The rank for component -1 is: 0\n",
      "The rank for component -2 is: 3\n"
     ]
    }
   ],
   "source": [
    "# The rank (percolation number) per component\n",
    "ranks = containment.voxel_containment.component_ranks\n",
    "_ = [print(f'The rank for component {int(key)} is: {int(value)}') for key, value in ranks.items()]"
   ]
  },
  {
   "cell_type": "markdown",
   "id": "d7abaf77-216d-435b-a6cf-57ec564fc31b",
   "metadata": {},
   "source": [
    "::: {.callout-tip}\n",
    "## Question 3\n",
    "\n",
    "What densities would have rank 1?\n",
    ":::"
   ]
  },
  {
   "cell_type": "markdown",
   "id": "4c9bdcb7-2846-4b0e-a19e-40a5f675c372",
   "metadata": {},
   "source": [
    "### Grids\n",
    "The boolean grid used for the segmentation and the integer labeling grid are both exposed in `containment.voxel_containment`"
   ]
  },
  {
   "cell_type": "code",
   "execution_count": 68,
   "id": "c474883a-51cf-4761-8dd5-314c707bbc9d",
   "metadata": {},
   "outputs": [
    {
     "name": "stdout",
     "output_type": "stream",
     "text": [
      "The boolean grid has the following dimensions: (40, 40, 40)\n",
      "The boolean grid contains the following unique values: [False  True]\n"
     ]
    }
   ],
   "source": [
    "# The selection grid\n",
    "boolean_grid = containment.voxel_containment.grid\n",
    "print(f'The boolean grid has the following dimensions: {boolean_grid.shape}')\n",
    "print(f'The boolean grid contains the following unique values: {np.unique(boolean_grid)}')"
   ]
  },
  {
   "cell_type": "markdown",
   "id": "d39a8b1c-f442-48d6-a257-26e4b64eef1e",
   "metadata": {},
   "source": [
    "::: {.callout-tip}\n",
    "## Question 4\n",
    "\n",
    "How many voxels are there in total?\n",
    ":::"
   ]
  },
  {
   "cell_type": "code",
   "execution_count": 69,
   "id": "df547c3f-9ec9-4c1e-b481-5179674e0c87",
   "metadata": {},
   "outputs": [
    {
     "name": "stdout",
     "output_type": "stream",
     "text": [
      "The labeling grid has the same dimensions as the boolean grid: True\n",
      "The labeled grid contains the following unique values: [-2 -1  1]\n"
     ]
    }
   ],
   "source": [
    "# The 26 neighbors connected component labeling grid, \n",
    "#  True grid values have positive labels and False grid values have \n",
    "#  negative labels (taking PBC into account).\n",
    "labeled_grid = containment.voxel_containment.components_grid\n",
    "print(f'The labeling grid has the same dimensions as the boolean grid: {boolean_grid.shape == labeled_grid.shape}')\n",
    "print(f'The labeled grid contains the following unique values: {np.unique(labeled_grid)}')"
   ]
  },
  {
   "cell_type": "markdown",
   "id": "6a41151b-e67b-4785-969c-59ca4ba711ca",
   "metadata": {},
   "source": [
    "<div class=\"alert alert-block alert-info\">\n",
    "<b>Tip:</b> You can take a look at the help and dir `help(containment)` and/or `dir(containment.voxel_containment)` to have a look at your options to work with the containment object (at the voxel level).\n",
    "</div>"
   ]
  },
  {
   "cell_type": "markdown",
   "id": "c323d437-f01f-4ccb-8e03-b5483a9be9af",
   "metadata": {},
   "source": [
    "#### Conclusion\n",
    "* There is a large component {-2} which is the outside. It is negative so it is not made out of atoms in our selection. Our selection contained all lipid tails so this means the outside is made out everything else (water, ions and linkers). It has a percolation number of 3 meaning it is periodic in all the dimensions of space.\n",
    "* Inside this water compartment lies our only positive component {1}, meaning it is made out of atoms in our selection. Thus, we have a drifting lipid density in water. \n",
    "* Finally, inside this lipid density lies one tiny compartment {-1}, as indicated by their voxel counts. As they are negative this must be another volume of non-lipid tails. However, if we select also the first lipid tail bead, we get two small compartments inside the lipid vesicle.\n",
    "\n",
    "Without having to open the structure with a 3D viewer, we are pretty well informed about what is currently present in our simulation. This allows for high throughput processing of complex systems and morphologies!"
   ]
  },
  {
   "cell_type": "markdown",
   "id": "b5cb65a7-9122-4f85-b50e-76ce76d1ea4c",
   "metadata": {},
   "source": [
    "## Containment Graph Handling\n",
    "Being able to define components not on their local identity, but their global graph identity can be a big deal for handling high throughput data. This can be done by using the containment graph, as it contains information of how a single component (or multiple) is nested in the global environment."
   ]
  },
  {
   "cell_type": "markdown",
   "id": "2f4f70dd-2052-47c3-bdf5-8e50216a61ae",
   "metadata": {},
   "source": [
    "### Using roots and leafs\n",
    "This can for example be used to auto analyze the content of a container if present using the concept of roots and leafs. A root is a node in a directed acyclic graph (DAG) which has no parent, and leaf is a node which has no children. We can recognize all components which contained by the fact that they have at least one parent. Thus all non-root nodes in the containment graph are contained."
   ]
  },
  {
   "cell_type": "markdown",
   "id": "68f878f3-b2be-4c64-920f-5f945af0c8d8",
   "metadata": {},
   "source": [
    "::: {.callout-tip}\n",
    "## Question 5\n",
    "\n",
    "Can a root node be a leaf node?\n",
    ":::"
   ]
  },
  {
   "cell_type": "code",
   "execution_count": 70,
   "id": "c55766c5-0e06-421f-ae16-33606f289693",
   "metadata": {},
   "outputs": [],
   "source": [
    "# We convert the data types to a simple int for nicer printing\n",
    "all_nodes = set(int(i) for i in containment.voxel_containment.nodes)"
   ]
  },
  {
   "cell_type": "code",
   "execution_count": 71,
   "id": "8acc7667-ab77-4996-ac2c-28f35765eb8e",
   "metadata": {},
   "outputs": [],
   "source": [
    "# All nodes with no parents\n",
    "root_nodes = set(int(i) for i in containment.voxel_containment.root_nodes) "
   ]
  },
  {
   "cell_type": "code",
   "execution_count": 72,
   "id": "6f43d69b-575d-40b3-bcd6-435407b8aeb6",
   "metadata": {},
   "outputs": [],
   "source": [
    "# All nodes with no children\n",
    "leaf_nodes = set(int(i) for i in containment.voxel_containment.leaf_nodes) "
   ]
  },
  {
   "cell_type": "code",
   "execution_count": 73,
   "id": "b58b90e3-d3e9-4151-833f-77da95abfd44",
   "metadata": {},
   "outputs": [
    {
     "name": "stdout",
     "output_type": "stream",
     "text": [
      "The following nodes are not contained: {-2}\n",
      "The following nodes are contained: {1, -1}\n"
     ]
    }
   ],
   "source": [
    "# Perform some selection to filter contained and uncontained nodes\n",
    "contained_nodes = all_nodes - root_nodes\n",
    "not_contained_nodes = all_nodes - contained_nodes\n",
    "print(f'The following nodes are not contained: {not_contained_nodes}')\n",
    "print(f'The following nodes are contained: {contained_nodes}')"
   ]
  },
  {
   "cell_type": "markdown",
   "id": "bb77ca85-1d74-4115-886b-bb36191e2d8b",
   "metadata": {},
   "source": [
    "### Relative component acquisition\n",
    "Using a list of component ids for relative component querying, traveling up and down the DAG of containment."
   ]
  },
  {
   "cell_type": "code",
   "execution_count": 74,
   "id": "7e0957aa-400b-40ee-8f5f-eadefa8eee27",
   "metadata": {},
   "outputs": [
    {
     "name": "stdout",
     "output_type": "stream",
     "text": [
      "The root nodes: {-2} have the following child nodes: {1}\n"
     ]
    }
   ],
   "source": [
    "# Get the children of nodes (we turned it into a set so we convert it to list)\n",
    "child_nodes = set(int(i) for i in containment.voxel_containment.get_child_nodes(list(root_nodes))) \n",
    "print(f'The root nodes: {root_nodes} have the following child nodes: {child_nodes}')"
   ]
  },
  {
   "cell_type": "code",
   "execution_count": 75,
   "id": "7aa3f864-421b-49fa-8c2b-ee5b7b6f2b06",
   "metadata": {},
   "outputs": [
    {
     "name": "stdout",
     "output_type": "stream",
     "text": [
      "The leaf nodes: {-1} have the following parent nodes: {1}\n"
     ]
    }
   ],
   "source": [
    "# Get the parents of nodes\n",
    "parent_nodes = set(int(i) for i in containment.voxel_containment.get_parent_nodes(list(leaf_nodes))) # Again we should use a list here\n",
    "print(f'The leaf nodes: {leaf_nodes} have the following parent nodes: {parent_nodes}')"
   ]
  },
  {
   "cell_type": "code",
   "execution_count": 76,
   "id": "3457713e-af15-4535-962f-d845909667bd",
   "metadata": {},
   "outputs": [
    {
     "name": "stdout",
     "output_type": "stream",
     "text": [
      "The root nodes: {-2} have the following downstream nodes: {1, -2, -1}\n"
     ]
    }
   ],
   "source": [
    "# Get all downstream nodes (includes self)\n",
    "downstream_nodes = set(int(i) for i in containment.voxel_containment.get_downstream_nodes(list(root_nodes)))\n",
    "print(f'The root nodes: {root_nodes} have the following downstream nodes: {downstream_nodes}')"
   ]
  },
  {
   "cell_type": "code",
   "execution_count": 77,
   "id": "ea394e38-b59e-417c-a2fc-cdc99e6eb539",
   "metadata": {},
   "outputs": [
    {
     "name": "stdout",
     "output_type": "stream",
     "text": [
      "The leaf nodes: {-1} have the following upstream nodes: {1, -2, -1}\n"
     ]
    }
   ],
   "source": [
    "# Get all upstream nodes (includes self)\n",
    "upstream_nodes = set(int(i) for i in containment.voxel_containment.get_upstream_nodes(list(leaf_nodes)))\n",
    "print(f'The leaf nodes: {leaf_nodes} have the following upstream nodes: {upstream_nodes}')"
   ]
  },
  {
   "cell_type": "markdown",
   "id": "eebea376-8ed8-411b-bb2a-abe8b864d6cb",
   "metadata": {},
   "source": [
    "## Volumetric Analysis\n",
    "The volume of the components is indicated by the voxel count per component in the containment graph and is stored in `.voxel_containment.voxel_counts`.\n",
    "\n",
    "If we want to be precise about the exact volume we should not naively assume that our target voxel volume (resolution^3) is perfectly matching the resulting voxel volume. This is due to the fact that MDVContainment has to pick the resolution such that it perfectly tiles the unit cell. Therefore MDVContainment needs to adjust the requested resolution slightly to satisfy this constraint. Thus to obtain the exact volumes we need to query the voxel counts in each component and multiply it by our exact single voxel volume."
   ]
  },
  {
   "cell_type": "code",
   "execution_count": 78,
   "id": "9bd95268-802e-4090-8682-82f1eeca5650",
   "metadata": {},
   "outputs": [
    {
     "name": "stdout",
     "output_type": "stream",
     "text": [
      "A single voxel has a volume of 0.123 nm^3, which is 0.002nm^3 off from the target resolution (0.5 nm) with a volume of 0.125 nm^3.\n"
     ]
    }
   ],
   "source": [
    "# Determining the single voxel volume\n",
    "nvoxels = np.prod(containment.voxel_containment.grid.shape)\n",
    "box_volume = mda.lib.mdamath.box_volume(u.dimensions) / 1000  # We need to correct that MDA is A^3 instead of nm^3.\n",
    "voxel_volume = box_volume / nvoxels\n",
    "print(f'A single voxel has a volume of {voxel_volume:.3f} nm^3, which is {abs(resolution**3 - voxel_volume):.3f}\\\n",
    "nm^3 off from the target resolution ({resolution} nm) with a volume of {resolution**3} nm^3.')"
   ]
  },
  {
   "cell_type": "code",
   "execution_count": 79,
   "id": "4e41b14f-490b-490f-a6d7-577bd5d49b00",
   "metadata": {},
   "outputs": [
    {
     "name": "stdout",
     "output_type": "stream",
     "text": [
      "[-2, -1, 1]\n"
     ]
    }
   ],
   "source": [
    "# All the nodes in the containment graph\n",
    "component_ids = [int(id) for id in containment.voxel_containment.nodes] \n",
    "print(component_ids)"
   ]
  },
  {
   "cell_type": "code",
   "execution_count": 80,
   "id": "f40ef6ca-ec27-4ba8-a1be-0d91ec910d4d",
   "metadata": {},
   "outputs": [
    {
     "name": "stdout",
     "output_type": "stream",
     "text": [
      "{-2: 59600.0, -1: 532.0, 1: 3868.0}\n"
     ]
    }
   ],
   "source": [
    "# Obtaining the formatted counts\n",
    "voxel_counts = {int(id):float(count) for id, count in containment.voxel_containment.voxel_counts.items()}\n",
    "print(voxel_counts)"
   ]
  },
  {
   "cell_type": "code",
   "execution_count": 81,
   "id": "fd27243d-09a4-4f6b-9c5c-f4af84541e0a",
   "metadata": {},
   "outputs": [
    {
     "name": "stdout",
     "output_type": "stream",
     "text": [
      "{-2: 7350.741135707312, -1: 65.61399805698474, 1: 477.05816632409204}\n"
     ]
    }
   ],
   "source": [
    "# Moving from counting voxels to quantitative volume determination\n",
    "volumes = {int(id):float(count*voxel_volume) for id, count in voxel_counts.items()} # Some additional formatting for nice printing\n",
    "print(volumes) # The component volumes in nm^3"
   ]
  },
  {
   "cell_type": "code",
   "execution_count": 82,
   "id": "9be316a1-a29e-4a91-a37b-423a8d9b9b67",
   "metadata": {},
   "outputs": [
    {
     "name": "stdout",
     "output_type": "stream",
     "text": [
      "The volume of the lipid component and its content is: 542.67 nm^3\n"
     ]
    }
   ],
   "source": [
    "# Determining the total volume of the bicelle vesicle and its content combined\n",
    "active_components = containment.voxel_containment.get_downstream_nodes([1]) # Includes the lipid density as well!\n",
    "combined_volume = 0\n",
    "for component in active_components:\n",
    "    combined_volume += volumes[component]\n",
    "print(f'The volume of the lipid component and its content is: {combined_volume:.02f} nm^3')"
   ]
  },
  {
   "cell_type": "markdown",
   "id": "7b50281e-50ab-458a-a159-c8947b4ca1b8",
   "metadata": {},
   "source": [
    "::: {.callout-tip}\n",
    "## Question 6\n",
    "\n",
    "What advantage does it bring to make the voxels perfectly tile the box?\n",
    ":::"
   ]
  },
  {
   "cell_type": "markdown",
   "id": "90bcbf26-4be2-4666-9722-f5c4e75911c8",
   "metadata": {},
   "source": [
    "## Surface Analysis \n",
    "Although containment is a volumetric analysis, nothing is stopping us from converting our volume to a (set of) surfaces. The advantage is that certain observables like surface area are not converging nicely for voxels as the voxel volume decreases -- like volume does. Another thing to keep in mind is that a volume has no genus, but. a surface does, therefore for certain topological analysis it might be important to work with explicit surfaces instead!  "
   ]
  },
  {
   "cell_type": "markdown",
   "id": "927650e0-9aac-4196-893b-a72a74d6c221",
   "metadata": {},
   "source": [
    "### Marching cubes\n",
    "We can use the marching cubes agorithm to transform our density into (a) surfaces."
   ]
  },
  {
   "cell_type": "code",
   "execution_count": 83,
   "id": "6f1bed2b-5f65-4324-a824-6cae55ceb022",
   "metadata": {},
   "outputs": [],
   "source": [
    "# Use marching cubes to obtain the contour surfaces\n",
    "active_components = 1\n",
    "combined_grid = containment.voxel_containment.get_voxel_mask([active_components])\n",
    "vertices, faces, normals, values = measure.marching_cubes(combined_grid.astype(float), level=0.5, spacing=(1.0, 1.0, 1.0))"
   ]
  },
  {
   "cell_type": "markdown",
   "id": "ba4a6148-1de2-49d4-8406-69a93c455f91",
   "metadata": {},
   "source": [
    "::: {.callout-tip}\n",
    "## Question 7\n",
    "\n",
    "Check how PBC is taken into account for the mesh generation!\n",
    ":::"
   ]
  },
  {
   "cell_type": "markdown",
   "id": "1677a684-7b6a-4aca-89e2-e3d1156565aa",
   "metadata": {},
   "source": [
    "### Process mesh in open3d"
   ]
  },
  {
   "cell_type": "code",
   "execution_count": 84,
   "id": "8e725bc8-6ae7-489e-9f98-daee59f95271",
   "metadata": {},
   "outputs": [],
   "source": [
    "def create_mesh_from_arrays(vertices, faces, visualize=False, write=False):\n",
    "    \"\"\"\n",
    "    Returns an open3d mesh object and writes the mesh to the given path for a ply file (example.ply) if write specifies a path.\n",
    "    \"\"\"\n",
    "    \n",
    "    # Create the mesh and set vertices and triangles during initialization\n",
    "    mesh = o3d.geometry.TriangleMesh(\n",
    "        vertices=o3d.utility.Vector3dVector(vertices),\n",
    "        triangles=o3d.utility.Vector3iVector(faces)\n",
    "    )\n",
    "    mesh.triangles = o3d.utility.Vector3iVector(np.flip(np.asarray(mesh.triangles), axis=1))\n",
    "    # Optional: compute normals for better visualization\n",
    "    mesh.compute_vertex_normals()\n",
    "\n",
    "    if visualize:\n",
    "        # Visualize (uncomment the line below)\n",
    "        o3d.visualization.draw_geometries([mesh])\n",
    "\n",
    "    if write:\n",
    "        # Save\n",
    "        o3d.io.write_triangle_mesh('bicelle_with_content.ply', mesh)\n",
    "\n",
    "    return mesh"
   ]
  },
  {
   "cell_type": "code",
   "execution_count": 85,
   "id": "b77d55aa-24fd-49a9-9d6c-e2404b43f762",
   "metadata": {},
   "outputs": [],
   "source": [
    "# Use the obtained vertices and triangles to create a open3d mesh object\n",
    "mesh = create_mesh_from_arrays(vertices, faces, visualize=False, write=False) # Set visualize to True to see the mesh!"
   ]
  },
  {
   "cell_type": "markdown",
   "id": "99fc1cbc-85e1-4c75-bf17-d9e0b292ddec",
   "metadata": {},
   "source": [
    "### Calculate total surface area"
   ]
  },
  {
   "cell_type": "code",
   "execution_count": 86,
   "id": "c8cbe185-2a57-4806-81f6-b858c3073e24",
   "metadata": {},
   "outputs": [
    {
     "name": "stdout",
     "output_type": "stream",
     "text": [
      "The total area of the combined mesh(es) is: 22.29 nm^2\n"
     ]
    }
   ],
   "source": [
    "# Combined area can be easily obtained using the .get_surface_area() method of the mesh\n",
    "total_area = mesh.get_surface_area() / 100 # We need to convert from A^2 to nm^2\n",
    "print(f'The total area of the combined mesh(es) is: {total_area:.02f} nm^2')"
   ]
  },
  {
   "cell_type": "markdown",
   "id": "66531648-389a-4a6f-967a-4ef9146ff061",
   "metadata": {},
   "source": [
    "### Split surface area between inner and outer surfaces\n",
    "For simplicity we simply split inner and outer, even though there might be multiple inner surfaces."
   ]
  },
  {
   "cell_type": "markdown",
   "id": "a69d5db0-ba1a-4a55-a864-3c110434b1a8",
   "metadata": {},
   "source": [
    "#### Individual areas (outer first)"
   ]
  },
  {
   "cell_type": "code",
   "execution_count": 87,
   "id": "8b547440-08ec-4795-a1fd-2b07f0ae8664",
   "metadata": {},
   "outputs": [],
   "source": [
    "# Containment for the bicelle with all its content\n",
    "inner_outer_area = {}\n",
    "bicelle_component = 1 # hard coded, but could we do something more clever?\n",
    "bicelle_container_components = containment.voxel_containment.get_downstream_nodes([bicelle_component])\n",
    "bicelle_container_grid = containment.voxel_containment.get_voxel_mask(bicelle_container_components)"
   ]
  },
  {
   "cell_type": "code",
   "execution_count": 88,
   "id": "7edecca2-0e30-460b-a134-3ada6ff1fbb6",
   "metadata": {},
   "outputs": [],
   "source": [
    "# Use marching cubes to obtain the contour surfaces\n",
    "vertices, faces, normals, values = measure.marching_cubes(bicelle_container_grid.astype(float), level=0.5, spacing=(1.0, 1.0, 1.0))"
   ]
  },
  {
   "cell_type": "code",
   "execution_count": 89,
   "id": "29202adf-f53f-431c-948d-d28ec29a5859",
   "metadata": {},
   "outputs": [],
   "source": [
    "# Create the mesh and set vertices and triangles during initialization\n",
    "mesh = create_mesh_from_arrays(vertices, faces, visualize=False, write=False)"
   ]
  },
  {
   "cell_type": "code",
   "execution_count": 90,
   "id": "d4cbf57a-7729-4001-a71b-f8d55b21582d",
   "metadata": {},
   "outputs": [],
   "source": [
    "# Calculate the area for the outer mesh\n",
    "inner_outer_area['outer'] = mesh.get_surface_area() / 100"
   ]
  },
  {
   "cell_type": "markdown",
   "id": "1a98af28-bb59-40cf-91bb-9f97b7d32339",
   "metadata": {},
   "source": [
    "#### Now lets work on the inner part"
   ]
  },
  {
   "cell_type": "code",
   "execution_count": 91,
   "id": "5be5ed81-9b9c-4951-bdc7-2f6583dd9c2d",
   "metadata": {},
   "outputs": [],
   "source": [
    "# start with subtracting self from the bicelle container\n",
    "bicelle_container_components = list(set(containment.voxel_containment.get_downstream_nodes([bicelle_component])) - set([bicelle_component]))\n",
    "bicelle_container_grid = containment.voxel_containment.get_voxel_mask(bicelle_container_components)"
   ]
  },
  {
   "cell_type": "code",
   "execution_count": 92,
   "id": "e704098a-c2c0-4ac8-935a-ed985bdf24eb",
   "metadata": {},
   "outputs": [],
   "source": [
    "# Use marching cubes to obtain the contour surfaces\n",
    "vertices, faces, normals, values = measure.marching_cubes(bicelle_container_grid.astype(float), level=0.5, spacing=(1.0, 1.0, 1.0))"
   ]
  },
  {
   "cell_type": "code",
   "execution_count": 93,
   "id": "3ef1636f-994f-4110-a86e-2971d958b057",
   "metadata": {},
   "outputs": [],
   "source": [
    "# Create the mesh and set vertices and triangles during initialization\n",
    "mesh = create_mesh_from_arrays(vertices, faces, visualize=False, write=False)"
   ]
  },
  {
   "cell_type": "code",
   "execution_count": 94,
   "id": "54fedaf8-b072-4f1a-988b-1daaa6ea2f52",
   "metadata": {},
   "outputs": [],
   "source": [
    "# Calculate area for the inner meshes\n",
    "inner_outer_area['inner'] = mesh.get_surface_area() / 100"
   ]
  },
  {
   "cell_type": "markdown",
   "id": "0aba7f78-6aa8-4386-b880-e3067bff5282",
   "metadata": {},
   "source": [
    "#### Final results"
   ]
  },
  {
   "cell_type": "code",
   "execution_count": 95,
   "id": "bacff069-e730-4e03-842a-0f4ee1fac478",
   "metadata": {},
   "outputs": [
    {
     "name": "stdout",
     "output_type": "stream",
     "text": [
      "The inner and outer surface areas are respectively: 4.74 and 17.55 nm^2\n",
      "The sum of innner and outer area is equal to the combined area calculated previously: True\n"
     ]
    }
   ],
   "source": [
    "# Show the results of calculating the areas and compare to previous result\n",
    "print(f'The inner and outer surface areas are respectively: {inner_outer_area['inner']:.02f} and {inner_outer_area['outer']:.02f} nm^2')\n",
    "# Take floating point accuracy into account!\n",
    "print(f'The sum of innner and outer area is equal to the combined area calculated previously: \\\n",
    "{abs(total_area - np.sum(list(inner_outer_area.values()))) < 0.000001}')"
   ]
  },
  {
   "cell_type": "markdown",
   "id": "2cff5019-2ffe-46fa-89ab-24dc7f9e6707",
   "metadata": {},
   "source": [
    "::: {.callout-tip}\n",
    "## Question 8\n",
    "\n",
    "What's the advantage in using this splitting of the meshes over just running a connected component analysis on the total mesh?\n",
    ":::"
   ]
  },
  {
   "cell_type": "markdown",
   "id": "bc025cfa-791f-457b-a2f6-3feec45ff9a3",
   "metadata": {},
   "source": [
    "## Composition Analysis\n",
    "To obtain the composition, a few composition analysis helper functions have been added to MDVContainment. However, to nicely visualize the result some additional matplotlib plotting functions were made specifically for this tutorial. In general this plotting should work reasonably well, but it is near impossible to create a single way of visualizing the compositions which works for all systems. In the end making good data visualization is an art!  "
   ]
  },
  {
   "cell_type": "code",
   "execution_count": 96,
   "id": "22fd3efd-2fef-4af1-99e7-2e8a23d3d415",
   "metadata": {},
   "outputs": [],
   "source": [
    "# Set the target nodes to investigate to all nodes in the containment\n",
    "component_ids = containment.voxel_containment.nodes"
   ]
  },
  {
   "cell_type": "code",
   "execution_count": 97,
   "id": "bb534731-c874-463f-8dac-4db11c2b11b0",
   "metadata": {},
   "outputs": [
    {
     "name": "stdout",
     "output_type": "stream",
     "text": [
      "Containment Graph with 3 components (component: nvoxels):\n",
      "└── [-2: 59600]\n",
      "    └── [1: 3868]\n",
      "        └── [-1: 532]\n",
      "\n"
     ]
    }
   ],
   "source": [
    "# Print the containment one more time so we do not forget the structure of our data\n",
    "print(containment)"
   ]
  },
  {
   "cell_type": "markdown",
   "id": "b2cf66fb-5fc1-4a61-adf2-5d207f80cb92",
   "metadata": {},
   "source": [
    "<div class=\"alert alert-block alert-info\">\n",
    "<b>Tip:</b> The atom name/resname/molar count of each atom in the compartments can be counted and stored easily in a `compositions_dict` using the helper functions in the `mdvcontainment.compositions_logic`.\n",
    "</div>"
   ]
  },
  {
   "cell_type": "markdown",
   "id": "aa86d9fb-fc0f-472e-b3e6-2957f3e3c6a8",
   "metadata": {},
   "source": [
    "### Obtain the compositions\n",
    "#### Make the pie chart plots counting the names of the atoms"
   ]
  },
  {
   "cell_type": "code",
   "execution_count": 98,
   "id": "e337e03d-4d4f-4e80-8179-ad6beb403f5f",
   "metadata": {},
   "outputs": [
    {
     "data": {
      "image/png": "[encoded data removed]",
      "text/plain": [
       "<Figure size 800x800 with 3 Axes>"
      ]
     },
     "metadata": {},
     "output_type": "display_data"
    }
   ],
   "source": [
    "mode = 'names' # 'resnames, names or molar'\n",
    "compositions_names = cl.get_compositions(containment, component_ids, mode)\n",
    "compositions, fig, axs = analyse_composition(u, containment, compositions_names, mode, min_label_percent=5)"
   ]
  },
  {
   "cell_type": "markdown",
   "id": "21d7e699-fdee-497b-9889-9a3964839c0a",
   "metadata": {},
   "source": [
    "#### Make the pie chart plots counting the resnames of the atoms"
   ]
  },
  {
   "cell_type": "code",
   "execution_count": 99,
   "id": "b9291278-6bd0-4134-ae7f-dbfd31d1626b",
   "metadata": {},
   "outputs": [
    {
     "data": {
      "image/png": "[encoded data removed]",
      "text/plain": [
       "<Figure size 800x800 with 3 Axes>"
      ]
     },
     "metadata": {},
     "output_type": "display_data"
    }
   ],
   "source": [
    "mode = 'resnames' # 'resnames, names or molar'\n",
    "compositions_resnames = cl.get_compositions(containment, component_ids, mode)\n",
    "compositions, fig, axs = analyse_composition(u, containment, compositions_resnames, mode, min_label_percent=5)"
   ]
  },
  {
   "cell_type": "markdown",
   "id": "456c72b9-5546-4e90-b067-dd07d2aec92f",
   "metadata": {},
   "source": [
    "#### Make the pie chart plots counting the resnames of the involved molecules (only count each molecule once)"
   ]
  },
  {
   "cell_type": "code",
   "execution_count": 100,
   "id": "127da73d-a0ab-41f3-8be4-0b8d279aa0d4",
   "metadata": {},
   "outputs": [
    {
     "data": {
      "image/png": "[encoded data removed]",
      "text/plain": [
       "<Figure size 800x800 with 3 Axes>"
      ]
     },
     "metadata": {},
     "output_type": "display_data"
    }
   ],
   "source": [
    "mode = 'molar' # 'resnames, names or molar'\n",
    "compositions_molar = cl.get_compositions(containment, component_ids, mode)\n",
    "compositions, fig, axs = analyse_composition(u, containment, compositions_molar, mode, min_label_percent=5)"
   ]
  },
  {
   "cell_type": "markdown",
   "id": "075f51be-c895-4adb-9b4d-2cc28cd5f913",
   "metadata": {},
   "source": [
    "## Containment Atomgroup I/O\n",
    "If you are used to working with MDAnalysis universes and atomgroups, it can be very useful to convert your voxel components back into atomgroups. MDVContainment comes with some nice MDAnalysis interfacing capabilities to shield you from most of the bookkeeping."
   ]
  },
  {
   "cell_type": "markdown",
   "id": "d5df1294-176c-405d-8e14-eea7c946898d",
   "metadata": {},
   "source": [
    "### Atomgroup from nodes\n",
    "This is probably the most useful method to know. It can turn a selection of component_ids in the containment graph into an MDAnalysis atomgroup."
   ]
  },
  {
   "cell_type": "code",
   "execution_count": 101,
   "id": "fb639c6a-3172-47ef-9d88-085a06290d11",
   "metadata": {},
   "outputs": [
    {
     "name": "stdout",
     "output_type": "stream",
     "text": [
      "<AtomGroup [<Atom 11: COO of type C of resname OA-1, resid 3 and segid SYSTEM>, <Atom 12: C1A of type C of resname OA-1, resid 3 and segid SYSTEM>, <Atom 21: COO of type C of resname OA-1, resid 5 and segid SYSTEM>, ..., <Atom 66210: C1A of type C of resname OAOH, resid 61465 and segid SYSTEM>, <Atom 66259: COOH of type C of resname OAOH, resid 61475 and segid SYSTEM>, <Atom 66260: C1A of type C of resname OAOH, resid 61475 and segid SYSTEM>]>\n"
     ]
    }
   ],
   "source": [
    " # The atomgroup containing the inside of the bicelle\n",
    "atomgroup_from_nodes = containment.get_atomgroup_from_nodes(list(leaf_nodes))\n",
    "print(atomgroup_from_nodes)"
   ]
  },
  {
   "cell_type": "markdown",
   "id": "6b3db9a3-5f49-4a38-ac94-acd468250445",
   "metadata": {},
   "source": [
    "### Voxels positions from nodes\n",
    "For more advanced analysis using voxel operations, one could prefer to work on the voxel grid itself."
   ]
  },
  {
   "cell_type": "code",
   "execution_count": 102,
   "id": "c6b479c1-7525-458c-b879-9d9c9f4b5607",
   "metadata": {},
   "outputs": [
    {
     "name": "stdout",
     "output_type": "stream",
     "text": [
      "[[ 0  0  0]\n",
      " [ 0  0  1]\n",
      " [ 0  0  2]\n",
      " ...\n",
      " [39 39 37]\n",
      " [39 39 38]\n",
      " [39 39 39]]\n"
     ]
    }
   ],
   "source": [
    "# All the positions in the contaiment.voxel_containment.components_grid for the outer solvent phase\n",
    "voxel_positions_from_atomgroup = containment.voxel_containment.get_voxel_positions(list(root_nodes)) \n",
    "print(voxel_positions_from_atomgroup)"
   ]
  },
  {
   "cell_type": "markdown",
   "id": "067cb2b4-a22d-4b67-af63-dedbd8b4500f",
   "metadata": {},
   "source": [
    "### Atomgroup from voxel positions\n",
    "Why stick to converting components into atomgroups, any voxel selection can be converted into an atomgroup!"
   ]
  },
  {
   "cell_type": "code",
   "execution_count": 103,
   "id": "d47e4713-c8d4-4e9f-9086-7ae3625ec3eb",
   "metadata": {},
   "outputs": [
    {
     "name": "stdout",
     "output_type": "stream",
     "text": [
      "<AtomGroup [<Atom 1: COO of type C of resname OA-1, resid 1 and segid SYSTEM>, <Atom 2: C1A of type C of resname OA-1, resid 1 and segid SYSTEM>, <Atom 6: COO of type C of resname OA-1, resid 2 and segid SYSTEM>, ..., <Atom 66254: COOH of type C of resname OAOH, resid 61474 and segid SYSTEM>, <Atom 66264: COOH of type C of resname OAOH, resid 61476 and segid SYSTEM>, <Atom 66265: C1A of type C of resname OAOH, resid 61476 and segid SYSTEM>]>\n"
     ]
    }
   ],
   "source": [
    "# Specify custom voxels to convert to an atomgroup\n",
    "atomgroup_from_voxels = containment.get_atomgroup_from_voxel_positions(voxel_positions_from_atomgroup)\n",
    "print(atomgroup_from_voxels)"
   ]
  },
  {
   "cell_type": "markdown",
   "id": "3408293d-f631-4db5-9f18-26ae2d6c8529",
   "metadata": {},
   "source": [
    "### Writing the containment atomgroup with annotated components\n",
    "We can ignore all the MDAnalysis warnings with respect to missing information as we simply want to write the atoms/residues/positions and labeling. The labeling of the components is written to the beta factor. This means the labeled components are not present if one writes a GRO file, as GRO files don't have a beta factor field."
   ]
  },
  {
   "cell_type": "code",
   "execution_count": 104,
   "id": "29346af4-aa9a-49d5-b220-9e053e46e670",
   "metadata": {},
   "outputs": [],
   "source": [
    "u.atoms.write('containment.pdb') # beta fields are changed in place as indicated!"
   ]
  },
  {
   "cell_type": "markdown",
   "id": "775aff5e-dc35-4175-aef7-7d43cc964bbb",
   "metadata": {},
   "source": [
    "Uncomment these following lines and update the path, if you have VMD installed and want to look at the labeled structure file."
   ]
  },
  {
   "cell_type": "code",
   "execution_count": 105,
   "id": "b27ae340-311a-4a4b-87dd-f6ae47882714",
   "metadata": {},
   "outputs": [],
   "source": [
    "# Change me to point to the result of \"which vmd\" in your terminal\n",
    "#vmd_path = '/Applications/VMD\\ 1.9.4a57-arm64-Rev12.app/Contents/MacOS/startup.command.csh' \n",
    "\n",
    "# VMD usage E.g. in atomselect 'beta \"-3\"' would show the outside water volume, do not forget the quotes around negative numbers!\n",
    "#!$vmd_path containment.pdb "
   ]
  },
  {
   "cell_type": "markdown",
   "id": "f173dc56-392c-4dbf-9302-05a0239653f9",
   "metadata": {},
   "source": [
    "# Assignments"
   ]
  },
  {
   "cell_type": "markdown",
   "id": "3b19bad6-74b1-4968-9d28-6ca61d224103",
   "metadata": {},
   "source": [
    "## Assignment 1: Define a Lipid Vescile\n",
    "Using component acquisition and composition analysis, define what it means to be a vesicle and only return what the vesicle coat is made of and what it contains.\n",
    "\n",
    "Keep the following complications in mind:\n",
    "* What would happen if there are no components satisfying your constraints?\n",
    "* What if there are multiple vesicle?\n",
    "* What about nested vesicles?\n",
    "* Check out tutorial 2 to see if you definition hols up :D"
   ]
  },
  {
   "cell_type": "markdown",
   "id": "881ad85f-aa6a-4cd9-bba8-7b9a8319cb44",
   "metadata": {
    "jp-MarkdownHeadingCollapsed": true
   },
   "source": [
    "## Assignment 2: Define the Leaflets of a Lipid Vesicle\n",
    "Use your definition of the lipid vesicle to find the compostions of its leaflets.\n",
    "\n",
    "Keep the following in mind:\n",
    "\n",
    "* Remember one can obtain the atomgroups and use them with MDAnalysis distance queries.\n",
    "* Think about which components need to distance query each other to cause their overlap to define a leaflet.\n",
    "* It can be useful to select the whole molecule if a single atom falls in your definition.\n",
    "* Use the MDAnalysis help.\n",
    "* Perform the growth in the voxel grid using scipy.ndimage.binary_dilation(mode='wrap') is another way to go.\n",
    "* Check out tutorial 2 to see if you definition hols up :D"
   ]
  },
  {
   "cell_type": "markdown",
   "id": "6cf1b5a0-69c6-45c3-bf7a-7f53415cf54f",
   "metadata": {},
   "source": [
    "## Assignment 3: Be Creative and Change the Solvent\n",
    "Being able to select objects with their content means it should be trivial with all your knowledge of Martini by now to exchange the water inside the bicelle with some alcohol.\n",
    "\n",
    "* Make use Bentopy or Polyply to get it done?"
   ]
  },
  {
   "attachments": {},
   "cell_type": "markdown",
   "id": "22c58c34-d8df-4c85-9b99-8e6991667cf2",
   "metadata": {},
   "source": [
    "# Flex Plotting Containment\n",
    "This code might not run as you might not have widgets installed. You can install it by running the following commands in your terminal.\n",
    "```\n",
    "$micromamba activate MDWORKSHOP # Or how your environment might be named\n",
    "$pip install ipywidgets\n",
    "```\n",
    "\n",
    "A static teaser of what the advanced plotting looks like.\n",
    "<center><img src=\"example_advanced_plotting_names.png\" width=\"800\"/></center>\n",
    "\n",
    "<div class=\"alert alert-block alert-info\">\n",
    "<b>Tip:</b>  You can hover over the composition bars to inspect the specifics of that segment.\n",
    "</div>"
   ]
  },
  {
   "cell_type": "code",
   "execution_count": 106,
   "id": "a10cc890-d6c1-4fcf-b213-40c9f83cdcfb",
   "metadata": {
    "scrolled": true
   },
   "outputs": [
    {
     "data": {
      "application/vnd.jupyter.widget-view+json": {
       "model_id": "5fe3599a30364fa5bbad135315af9e08",
       "version_major": 2,
       "version_minor": 0
      },
      "text/plain": [
       "VBox(children=(VBox(children=(HBox(children=(HTML(value=\"<b>Comp. -2</b> &nbsp;&nbsp;<span style='color:gray'>…"
      ]
     },
     "metadata": {},
     "output_type": "display_data"
    }
   ],
   "source": [
    "compositions_names = cl.get_compositions(containment, mode='names')\n",
    "show_containment_with_composition(u, containment.voxel_containment, compositions_names, mode='names', max_display_items=1000)"
   ]
  },
  {
   "cell_type": "code",
   "execution_count": 107,
   "id": "b8e6c0f2-a86d-4daa-ab2f-854874b3499a",
   "metadata": {},
   "outputs": [
    {
     "data": {
      "application/vnd.jupyter.widget-view+json": {
       "model_id": "c6065068751d44c790c4163f22d06fdb",
       "version_major": 2,
       "version_minor": 0
      },
      "text/plain": [
       "VBox(children=(VBox(children=(HBox(children=(HTML(value=\"<b>Comp. -2</b> &nbsp;&nbsp;<span style='color:gray'>…"
      ]
     },
     "metadata": {},
     "output_type": "display_data"
    }
   ],
   "source": [
    "compositions_resnames = cl.get_compositions(containment, mode='resnames')\n",
    "show_containment_with_composition(u, containment.voxel_containment, compositions_resnames, 'resnames', max_display_items=1000)"
   ]
  },
  {
   "cell_type": "code",
   "execution_count": 108,
   "id": "e85aab2c-2bd8-4636-818e-f08c3ccd2ef6",
   "metadata": {},
   "outputs": [
    {
     "data": {
      "application/vnd.jupyter.widget-view+json": {
       "model_id": "9c8f38c5d3e545a39b8cee15b681a3b3",
       "version_major": 2,
       "version_minor": 0
      },
      "text/plain": [
       "VBox(children=(VBox(children=(HBox(children=(HTML(value=\"<b>Comp. -2</b> &nbsp;&nbsp;<span style='color:gray'>…"
      ]
     },
     "metadata": {},
     "output_type": "display_data"
    }
   ],
   "source": [
    "compositions_molar = cl.get_compositions(containment, mode='molar')\n",
    "show_containment_with_composition(u, containment.voxel_containment, compositions_molar, mode='molar', max_display_items=1000)"
   ]
  },
  {
   "cell_type": "markdown",
   "id": "e2c1c4fc-ac73-416f-80d6-0fa8c01dcbcf",
   "metadata": {},
   "source": [
    "# Conclusion\n",
    "You can use MDVContainment to analyse your systems in a hierarchical manner. It allows you to specify your selections in a much more robust manner allowing for high throughput data analysis.\n",
    "\n",
    "<div class=\"alert alert-block alert-info\">\n",
    "<b>Tip:</b> Check out the other MDVContainment tutorials for an alternative approach to voxel labeling, using a more sophisticated density based approach (tutorial 2). Or even perform labeling without any selection at all (tutorial 3)!\n",
    "</div>\n",
    "\n",
    "For any questions/remarks/thanks/etc. please make an issue at the github repo:\n",
    "[https://github.com/BartBruininks/mdvcontainment](https://github.com/BartBruininks/mdvcontainment)\n",
    "\n",
    "Cite the preprint when using this work:\n",
    "\n",
    "```\n",
    "Classification of containment hierarchy for point clouds in periodic space\n",
    "Bart Marlon Herwig Bruininks, Ilpo Vattulainen\n",
    "https://doi.org/10.1101/2025.08.06.668936\n",
    "```"
   ]
  },
  {
   "cell_type": "markdown",
   "id": "2c527d3a-1104-4dc7-96e0-fd30845a564c",
   "metadata": {},
   "source": [
    "## Answers to the Questions\n",
    "1. The positive labels are the ones which annotate the selected voxels, so component 1.\n",
    "2. Component -1 is contained by component 1 (the arrow points from 1 to -1).\n",
    "3. Components of rank 1 would be volumetric curves (a topological wire) spanning the PBC.\n",
    "4. There are 40x40x40 = 64000 voxels in total in the grid.\n",
    "5. Yes, a root node can be a leaf node\n",
    "6. If the voxel perfectly tile the box, the voxel grid is translational invariant under integer translations.\n",
    "7. The PBC are taken into account for mesh generation, as no triangles are added at the box 'boundaries'. However, duplicate vertex positions exist for vertices at the boundaries (not properly identified). This can be fixed, but would mess with the area calculations, so be careful.\n",
    "8. By using containment to generate specific meshes, we keep our handles on the resulting meshes, allowing us to identify which densities cause which areas without opportunistic guessing.\n"
   ]
  }
 ],
 "metadata": {
  "kernelspec": {
   "display_name": "Python 3 (ipykernel)",
   "language": "python",
   "name": "python3"
  },
  "language_info": {
   "codemirror_mode": {
    "name": "ipython",
    "version": 3
   },
   "file_extension": ".py",
   "mimetype": "text/x-python",
   "name": "python",
   "nbconvert_exporter": "python",
   "pygments_lexer": "ipython3",
   "version": "3.13.2"
  }
 },
 "nbformat": 4,
 "nbformat_minor": 5
}
